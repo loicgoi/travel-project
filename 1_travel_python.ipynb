{
 "cells": [
  {
   "cell_type": "markdown",
   "id": "afa68136",
   "metadata": {},
   "source": [
    "# En voyage avec (un) python\n",
    "\n",
    "Dans ce notebook on vous propose de découvrir quelques bases de python en s'intéressant à des carnets de voyage."
   ]
  },
  {
   "cell_type": "markdown",
   "id": "bf55835c",
   "metadata": {},
   "source": [
    "### 1 – Moyenne de photos prises par jour  \n",
    "On stocke des informations sur un voyage (_variables_), on calcule le nombre de photos prises par jour, et on affiche le résumé (`print`).\n",
    "\n",
    "Les f-strings permettent de faire de l'affichage (`print`) sans utiliser de virgules si vous voulez afficher à la fois du texte et une variable.\n",
    "\n",
    "Exemple : \n",
    "\n",
    "```print(f'Ma variable est égale à {nom_de_ma_variable})```\n",
    "\n",
    "\n",
    "Les # permettent d'écrire des commentaires, c'est-à-dire des lignes qui ne font pas parties du code au moment de l'éxécution.\n",
    "\n",
    "**TODO**\n",
    "\n",
    "- Calculer le nombre moyen de photos pris par jour durant le voyage,\n",
    "- Ajouter une nouvelle variable de votre choix et un nouveau calcul de variable,\n",
    "- Utiliser cette méthode pour afficher le nombre moyen de photo prises par jour."
   ]
  },
  {
   "cell_type": "code",
   "execution_count": 6,
   "id": "b05d9e4b",
   "metadata": {},
   "outputs": [
    {
     "name": "stdout",
     "output_type": "stream",
     "text": [
      "<class 'str'>\n"
     ]
    }
   ],
   "source": [
    "# Define variables for the trip\n",
    "city = \"Montpellier\" \n",
    "\n",
    "# Plot variable type\n",
    "print(type(city)) # string = chaîne de caractères\n",
    "\n",
    "department = 34\n",
    "days_spent = 5.5 # float = nombre décimal\n",
    "photos_taken = 230 # integer = nombre entier\n",
    "great_trip = True # boolean = vrai ou faux"
   ]
  },
  {
   "cell_type": "code",
   "execution_count": 7,
   "id": "0063454a",
   "metadata": {},
   "outputs": [
    {
     "name": "stdout",
     "output_type": "stream",
     "text": [
      "True\n",
      "True\n"
     ]
    }
   ],
   "source": [
    "# Compare variables\n",
    "print(photos_taken > 200) # > est un opérateur de comparaison\n",
    "print(great_trip == True) # == is equal to, True if values are equal, False otherwise"
   ]
  },
  {
   "cell_type": "code",
   "execution_count": 8,
   "id": "4f0fbe5c",
   "metadata": {},
   "outputs": [
    {
     "name": "stdout",
     "output_type": "stream",
     "text": [
      "You took a lot of photos!\n",
      "City Montpellier\n",
      "Days Spent 5.5\n",
      "Photos Taken 230\n",
      "Great Trip? True\n",
      "Average photos per day: 41\n"
     ]
    }
   ],
   "source": [
    "# TODO Add new variable\n",
    "\n",
    "average_photos_per_day = 0\n",
    "\n",
    "# TODO Calculate average photos per day\n",
    "\n",
    "average_photos_per_day = int(photos_taken / days_spent)\n",
    "\n",
    "# TODO Calculate something else using your new variable\n",
    "\n",
    "if average_photos_per_day > 40:\n",
    "    print(\"You took a lot of photos!\")\n",
    "else:\n",
    "    print(\"You took a few photos.\")\n",
    "\n",
    "# Print text and variables \n",
    "print(\"City\", city)\n",
    "print(\"Days Spent\", days_spent)\n",
    "print(\"Photos Taken\", photos_taken)\n",
    "print(\"Great Trip?\", great_trip)\n",
    "\n",
    "\n",
    "# TODO Print average number of photo using f-strings\n",
    "\n",
    "print(f\"Average photos per day: {average_photos_per_day}\")\n"
   ]
  },
  {
   "cell_type": "markdown",
   "id": "dff2a6fe",
   "metadata": {},
   "source": [
    "### 2 – Analyser la météo  \n",
    "\n",
    "__Syntaxe__\n",
    "\n",
    "```\n",
    "# Si la condition_1 est True, alors faire la task_1\n",
    "if condition_1:\n",
    "    faire task_1\n",
    "# Si la condition 2 est True, alors faire la task_2\n",
    "elif condtion_2: \n",
    "    faire task_2\n",
    "# Si la condition 2 est True, alors faire la task_2\n",
    "elif condtion_3: \n",
    "    faire task_3\n",
    "# Sinon faire la task_4\n",
    "else:\n",
    "    faire task_4\n",
    "```\n",
    "\n",
    "Pour la syntaxe et des exemples de conditions, voir la partie précédente du code #Compare variables\n",
    "\n",
    "**TODO**\n",
    "\n",
    "- Créer une liste de plusieurs chaînes de caractères contenant des indications de météo [`string`, `string`].\n",
    "- Créer une variable qui indique la météo d'un jour particulier (`string`).\n",
    "- Analyser la météo et afficher un message personnalisé selon le cas ( `if`, `elif`, `else`).\n",
    "\n",
    "\n"
   ]
  },
  {
   "cell_type": "code",
   "execution_count": 9,
   "id": "61cc3382",
   "metadata": {},
   "outputs": [
    {
     "name": "stdout",
     "output_type": "stream",
     "text": [
      "Il fait beau aujourd'hui.\n"
     ]
    }
   ],
   "source": [
    "# Set the weather condition\n",
    "weather = \"beau\" # string #TODO\n",
    "\n",
    "# List of accepted weather values (at least 3 different value)\n",
    "valid_weather = [\"beau\", \"nuageux\", \"pluvieux\", \"orage\", \"froid\"] # List #TODO\n",
    "\n",
    "# Check if the weather is in the list of valid_weather values\n",
    "if weather not in valid_weather : #TODO compléter la condition :\n",
    "\n",
    "    print(\"Unknown weather type.\")\n",
    "else:\n",
    "    print(f\"Il fait {weather} aujourd'hui.\")\n",
    "\n",
    "    # TODO Test if weather is in valid_weather and display a personalized message"
   ]
  },
  {
   "cell_type": "markdown",
   "id": "8ea60ed0",
   "metadata": {},
   "source": [
    "### 3 - Un dictionnaire de voyage\n",
    "On peut stocker un voyage avec les informations associées dans un dictionnaire.\n",
    "\n",
    "__Syntaxe__\n",
    "\n",
    "\n",
    "````\n",
    "trip = {\"nom information 1\": valeur information 1, \"nom information 2\": valeur information 2}\n",
    "````\n",
    "\n",
    "- Il peut y avoir autant de paire clé/valeur que l'on souhaite.\n",
    "\n",
    "- La clé est nécéssairement une __chaîne de caractère__, la valeur de n'importe quel type (même un autre dictionnaire).\n",
    "\n",
    "\n",
    "\n",
    "````print(trip[\"nom information 1\"])```` affiche ````valeur information 1````\n",
    "\n",
    "````trip[\"nom information 1\"]) = nouvelle valeur````\n",
    "\n",
    "\n",
    "\n",
    "**TODO**\n",
    "\n",
    "- Ajouter au moins deux autres paires de clé/valeur dans le dictionnaire suivant.\n",
    "- Afficher un petit résumé du voyage, incluant un calcul du nombre moyen de photo prises par jour"
   ]
  },
  {
   "cell_type": "code",
   "execution_count": 10,
   "id": "3fce9517",
   "metadata": {},
   "outputs": [
    {
     "name": "stdout",
     "output_type": "stream",
     "text": [
      "On a visité Montpellier dans le départment 34.\n",
      "On a pris 150 photos en tout.\n",
      "On est resté 5.5 jours là-bas.\n",
      "On a eu du beau temps tout le temps.\n",
      "Avec tout ce qu'on a visité, on a pris 41 photos en moyenne par jour.\n"
     ]
    }
   ],
   "source": [
    "# Create a dictionary for one trip\n",
    "#TODO Ajouter des paires clé-valeur de votre choix\n",
    "trip = {\n",
    "    \"city\": \"Montpellier\",\n",
    "    \"department\": 34,\n",
    "    \"photos_taken\": 150,\n",
    "    \"days_spent\": 5.5,\n",
    "    \"great_trip\": True,\n",
    "    \"weather\": weather,\n",
    "    \"average_photos_per_day\": average_photos_per_day\n",
    "}\n",
    "\n",
    "# Print a trip summary #TODO\n",
    "print(f\"On a visité {trip['city']} dans le départment {trip['department']}.\")\n",
    "print(f\"On a pris {trip['photos_taken']} photos en tout.\")\n",
    "print(f\"On est resté {trip['days_spent']} jours là-bas.\")\n",
    "print(f\"On a eu du {trip['weather']} temps tout le temps.\")\n",
    "print(f\"Avec tout ce qu'on a visité, on a pris {trip['average_photos_per_day']} photos en moyenne par jour.\")"
   ]
  },
  {
   "cell_type": "markdown",
   "id": "87488af5",
   "metadata": {},
   "source": [
    "### 4 - Carnet de voyage  \n",
    "\n",
    "On stocke plusieurs voyages dans une liste et on les affiche un à un.\n",
    "\n",
    "On peut parcourir tous les éléments d'une liste en faisant une boucle ```for```.\n",
    "\n",
    "__Syntaxe__\n",
    "\n",
    "\n",
    "````\n",
    "my_list = [element_1, element_2]\n",
    "for element in my_list:\n",
    "    print(element)\n",
    "````\n",
    "\n",
    "**TODO**\n",
    "- Afficher un élément de la liste. Ex : `my_list[0]` affiche le premier élément\n",
    "- Compter le nombre de voyage en utilisant `len(my_list)`\n",
    "- Pour chaque voyage de la liste, afficher un court résumé incluant un calcul du nombre moyen de photo prises par jour"
   ]
  },
  {
   "cell_type": "code",
   "execution_count": 23,
   "id": "291fc9ec",
   "metadata": {},
   "outputs": [
    {
     "name": "stdout",
     "output_type": "stream",
     "text": [
      "{'city': 'Montpellier', 'department': 34, 'photos_taken': 150, 'days_spent': 5.5, 'great_trip': True}\n",
      "Nombre de voyages : 3\n",
      "Travel Journal:\n",
      "Nous avons été à Montpellier dans le département 34. Nous avons pris 150 photos en tout, sa représente environ 27 photos par jour !\n",
      "Nous avons été à Bordeaux dans le département 33. Nous avons pris 120 photos en tout, sa représente environ 40 photos par jour !\n",
      "Nous avons été à Nantes dans le département 44. Nous avons pris 220 photos en tout, sa représente environ 31 photos par jour !\n"
     ]
    }
   ],
   "source": [
    "# TODO Add new trips to the list of trips\n",
    "trip_1 = {\n",
    "    \"city\": \"Montpellier\",\n",
    "    \"department\": 34,\n",
    "    \"photos_taken\": 150,\n",
    "    \"days_spent\": 5.5,\n",
    "    \"great_trip\": True,\n",
    "\n",
    "}\n",
    "trip_2 = {\n",
    "    \"city\": \"Bordeaux\",\n",
    "    \"department\": 33,\n",
    "    \"photos_taken\": 120,\n",
    "    \"days_spent\": 3,\n",
    "    \"great_trip\": True,\n",
    "\n",
    "}\n",
    "trip_3 = {\n",
    "    \"city\": \"Nantes\",\n",
    "    \"department\": 44,\n",
    "    \"photos_taken\": 220,\n",
    "    \"days_spent\": 7,\n",
    "    \"great_trip\": True,\n",
    "\n",
    "}\n",
    "\n",
    "trip_list = [trip_1, trip_2, trip_3]\n",
    "\n",
    "# TODO Print one element of the trip_list\n",
    "print(trip_list[0])\n",
    "\n",
    "# TODO Print the number of trips in the trip_list\n",
    "print(\"Nombre de voyages :\", len(trip_list))\n",
    "\n",
    "# Loop through and print each trip\n",
    "print(\"Travel Journal:\")\n",
    "\n",
    "# TODO Loop through trip_list and print each trip\n",
    "for trip in trip_list :\n",
    "    trip[\"average_photos_per_day\"] = int(trip[\"photos_taken\"] / trip[\"days_spent\"])\n",
    "\n",
    "for trip in trip_list :\n",
    "    print(f\"Nous avons été à {trip['city']} dans le département {trip['department']}. Nous avons pris {trip['photos_taken']} photos en tout, sa représente environ {trip['average_photos_per_day']} photos par jour !\")"
   ]
  },
  {
   "cell_type": "markdown",
   "id": "4d0ea091",
   "metadata": {},
   "source": [
    "### 5 - Utiliser des fonctions \n",
    "On a écrit plusieurs fois le numéro du département de Montpellier. On sait qu'il ne va pas changer au cours du projet, dans ce cas une bonne pratique pour savoir de quoi on parle et d'éviter les erreurs de recopie est de définir une variable en début de projet qu'on pourra réutiliser dés que nécessaire :\n",
    "\n",
    "```DEPARTEMENT = 34```\n",
    "\n",
    "On a également écrit plein de fois le calcul du nombre de photos par jour. On peut créer une fonction que l'on pourra réutiliser dés que nécessairequi prendra en entrée un voyage, qui fera le calcul et qui retournera le nombre moyen de photo.\n",
    "\n",
    "Après le nom de la fonction, on ajoute entre \"\"\" de la documentation sur les paramètres d'entrée (type et explication) et sur les sorties \"\"\"."
   ]
  },
  {
   "cell_type": "code",
   "execution_count": null,
   "id": "1724eb3a",
   "metadata": {},
   "outputs": [],
   "source": [
    "def compute_average_photos_per_day(trip):\n",
    "    \"\"\"\n",
    "    Calculate the average number of photos taken per day for a trip.\n",
    "\n",
    "    Parameters\n",
    "    ----------\n",
    "    trip (dict)\n",
    "        Dictionary containing trip details including 'photos_taken' and 'days_spent'.   \n",
    "\n",
    "    Returns\n",
    "    -------\n",
    "    float\n",
    "        Average number of photos taken per day.\n",
    "    \"\"\"\n",
    "    return trip['photos_taken'] / trip['days_spent']\n",
    "    \n",
    "# Example usage\n",
    "trip_example = {\n",
    "    \"city\": \"Montpellier\",\n",
    "    \"department\": 34,\n",
    "    \"photos_taken\": 150,\n",
    "    \"days_spent\": 5.5,\n",
    "}\n",
    "average_photos = compute_average_photos_per_day(trip_example)"
   ]
  },
  {
   "cell_type": "markdown",
   "id": "bac621fe",
   "metadata": {},
   "source": [
    "**TODO**\n",
    "\n",
    "- Tester la fonction dans le case où ````photos_taken = 0````\n",
    "- Lire l'erreur\n",
    "- Adapter la fonction en utilisant une condition (if, else) pour renvoyer 0 dans ce cas."
   ]
  },
  {
   "cell_type": "code",
   "execution_count": 38,
   "id": "2caeba0f",
   "metadata": {},
   "outputs": [
    {
     "ename": "ZeroDivisionError",
     "evalue": "division by zero",
     "output_type": "error",
     "traceback": [
      "\u001b[31m---------------------------------------------------------------------------\u001b[39m",
      "\u001b[31mZeroDivisionError\u001b[39m                         Traceback (most recent call last)",
      "\u001b[36mCell\u001b[39m\u001b[36m \u001b[39m\u001b[32mIn[38]\u001b[39m\u001b[32m, line 26\u001b[39m\n\u001b[32m     18\u001b[39m     \u001b[38;5;28;01mreturn\u001b[39;00m \u001b[38;5;28mint\u001b[39m(trip[\u001b[33m'\u001b[39m\u001b[33mphotos_taken\u001b[39m\u001b[33m'\u001b[39m] / trip[\u001b[33m'\u001b[39m\u001b[33mdays_spent\u001b[39m\u001b[33m'\u001b[39m])\n\u001b[32m     20\u001b[39m trip_error = {\n\u001b[32m     21\u001b[39m     \u001b[33m\"\u001b[39m\u001b[33mcity\u001b[39m\u001b[33m\"\u001b[39m: \u001b[33m\"\u001b[39m\u001b[33mMontpellier\u001b[39m\u001b[33m\"\u001b[39m,\n\u001b[32m     22\u001b[39m     \u001b[33m\"\u001b[39m\u001b[33mdepartment\u001b[39m\u001b[33m\"\u001b[39m: \u001b[32m34\u001b[39m,\n\u001b[32m     23\u001b[39m     \u001b[33m\"\u001b[39m\u001b[33mphotos_taken\u001b[39m\u001b[33m\"\u001b[39m: \u001b[32m150\u001b[39m,\n\u001b[32m     24\u001b[39m     \u001b[33m\"\u001b[39m\u001b[33mdays_spent\u001b[39m\u001b[33m\"\u001b[39m: \u001b[32m0\u001b[39m,\n\u001b[32m     25\u001b[39m }\n\u001b[32m---> \u001b[39m\u001b[32m26\u001b[39m average_photos = \u001b[43mcompute_average_photos_per_day\u001b[49m\u001b[43m(\u001b[49m\u001b[43mtrip_error\u001b[49m\u001b[43m)\u001b[49m\n\u001b[32m     28\u001b[39m \u001b[38;5;28mprint\u001b[39m(average_photos)\n",
      "\u001b[36mCell\u001b[39m\u001b[36m \u001b[39m\u001b[32mIn[38]\u001b[39m\u001b[32m, line 18\u001b[39m, in \u001b[36mcompute_average_photos_per_day\u001b[39m\u001b[34m(trip)\u001b[39m\n\u001b[32m      3\u001b[39m \u001b[38;5;28;01mdef\u001b[39;00m\u001b[38;5;250m \u001b[39m\u001b[34mcompute_average_photos_per_day\u001b[39m(trip):\n\u001b[32m      4\u001b[39m \u001b[38;5;250m    \u001b[39m\u001b[33;03m\"\"\"\u001b[39;00m\n\u001b[32m      5\u001b[39m \u001b[33;03m    Calcul du nombre moyen de photos par jour pour chaque voyage.\u001b[39;00m\n\u001b[32m      6\u001b[39m \u001b[33;03m    Pour tester une division par 0.\u001b[39;00m\n\u001b[32m   (...)\u001b[39m\u001b[32m     16\u001b[39m \u001b[33;03m        Nombre moyen de photos par jour.\u001b[39;00m\n\u001b[32m     17\u001b[39m \u001b[33;03m    \"\"\"\u001b[39;00m\n\u001b[32m---> \u001b[39m\u001b[32m18\u001b[39m     \u001b[38;5;28;01mreturn\u001b[39;00m \u001b[38;5;28mint\u001b[39m(\u001b[43mtrip\u001b[49m\u001b[43m[\u001b[49m\u001b[33;43m'\u001b[39;49m\u001b[33;43mphotos_taken\u001b[39;49m\u001b[33;43m'\u001b[39;49m\u001b[43m]\u001b[49m\u001b[43m \u001b[49m\u001b[43m/\u001b[49m\u001b[43m \u001b[49m\u001b[43mtrip\u001b[49m\u001b[43m[\u001b[49m\u001b[33;43m'\u001b[39;49m\u001b[33;43mdays_spent\u001b[39;49m\u001b[33;43m'\u001b[39;49m\u001b[43m]\u001b[49m)\n",
      "\u001b[31mZeroDivisionError\u001b[39m: division by zero"
     ]
    }
   ],
   "source": [
    "# TODO Test function with a trip that has 0 photos\n",
    "\n",
    "def compute_average_photos_per_day(trip):\n",
    "    \"\"\"\n",
    "    Calcul du nombre moyen de photos par jour pour chaque voyage.\n",
    "    Pour tester une division par 0.\n",
    "\n",
    "    Paramètres\n",
    "    ----------\n",
    "    trip (dict)\n",
    "        Dictionnaire qui contient les détails du voyage incluant 'photos_taken' et 'days_spent' \n",
    "\n",
    "    Returns\n",
    "    -------\n",
    "    int\n",
    "        Nombre moyen de photos par jour.\n",
    "    \"\"\"\n",
    "    return int(trip['photos_taken'] / trip['days_spent'])\n",
    "\n",
    "trip_error = {\n",
    "    \"city\": \"Montpellier\",\n",
    "    \"department\": 34,\n",
    "    \"photos_taken\": 150,\n",
    "    \"days_spent\": 0,\n",
    "}\n",
    "average_photos = compute_average_photos_per_day(trip_error)\n",
    "\n",
    "print(average_photos)\n"
   ]
  },
  {
   "cell_type": "code",
   "execution_count": 43,
   "id": "1ea11ba0",
   "metadata": {},
   "outputs": [
    {
     "name": "stdout",
     "output_type": "stream",
     "text": [
      "Impossible de diviser par 0 ! Vérifier le nombre de jours renseignés.\n",
      "None\n"
     ]
    }
   ],
   "source": [
    "def compute_average_photos_per_day(trip):\n",
    "    \"\"\"\n",
    "    Calcul du nombre moyen de photos par jour pour chaque voyage.\n",
    "    Pour tester une division par 0.\n",
    "\n",
    "    Paramètres\n",
    "    ----------\n",
    "    trip (dict)\n",
    "        Dictionnaire qui contient les détails du voyage incluant 'photos_taken' et 'days_spent' \n",
    "\n",
    "    Returns\n",
    "    -------\n",
    "    int\n",
    "        Nombre moyen de photos par jour.\n",
    "    \"\"\"\n",
    "\n",
    "    if trip['days_spent'] == 0 :\n",
    "        return print(\"Impossible de diviser par 0 ! Vérifier le nombre de jours renseignés.\")\n",
    "    \n",
    "    else:\n",
    "        return int(trip['photos_taken'] / trip['days_spent'])\n",
    "\n",
    "trip_error_with_condition = {\n",
    "    \"city\": \"Montpellier\",\n",
    "    \"department\": 34,\n",
    "    \"photos_taken\": 150,\n",
    "    \"days_spent\": 0,\n",
    "}\n",
    "average_photos = compute_average_photos_per_day(trip_error_with_condition)\n",
    "\n",
    "print(average_photos)"
   ]
  },
  {
   "cell_type": "markdown",
   "id": "bac9b0ad",
   "metadata": {},
   "source": [
    "### 6 - Compter les villes uniques visitées  \n",
    "Au lieu d'utiliser une boucle `for` pour parcourir les éléments d'une liste, on peut utiliser la **compréhension de liste**.\n",
    "\n",
    "__Exemple__\n",
    "\n",
    "\n",
    "```\n",
    "my_list = [100, 200, 300]\n",
    "comprehension_list = [value / 10 for value in my_list]\n",
    "comprehension_list\n",
    ">> [10.0, 20.0, 30.0]\n",
    "```\n",
    "\n",
    "**TODO**\n",
    "- Afficher la liste `trip_list` définie précédemment, vérifier qu'elle contient plusieurs villes différentes.\n",
    "- Créer la liste `cities` en adaptant l'exemple ci-dessus.\n",
    "- Affiche le nombre de villes différentes visitées, sans doublon. Utiliser `set(my_liste)`qui permet de conserver les éléments uniques d'une liste."
   ]
  },
  {
   "cell_type": "code",
   "execution_count": 44,
   "id": "2915a507",
   "metadata": {},
   "outputs": [
    {
     "name": "stdout",
     "output_type": "stream",
     "text": [
      "Liste des voyages :\n",
      "{'city': 'Montpellier', 'department': 34, 'photos_taken': 150, 'days_spent': 5.5, 'great_trip': True, 'average_photos_per_day': 27}\n",
      "{'city': 'Bordeaux', 'department': 33, 'photos_taken': 120, 'days_spent': 3, 'great_trip': True, 'average_photos_per_day': 40}\n",
      "{'city': 'Nantes', 'department': 44, 'photos_taken': 220, 'days_spent': 7, 'great_trip': True, 'average_photos_per_day': 31}\n"
     ]
    }
   ],
   "source": [
    "# TODO Print trip_list\n",
    "print(\"Liste des voyages :\")\n",
    "for trip in trip_list :\n",
    "    print(trip)"
   ]
  },
  {
   "cell_type": "code",
   "execution_count": 48,
   "id": "ae25986e",
   "metadata": {},
   "outputs": [
    {
     "name": "stdout",
     "output_type": "stream",
     "text": [
      "Villes visitées : ['Montpellier', 'Bordeaux', 'Nantes']\n",
      "Nombre de villes différentes visitées : 3\n"
     ]
    }
   ],
   "source": [
    "# TODO Extract all visited cities\n",
    "cities = [trip['city'] for trip in trip_list]\n",
    "\n",
    "print(\"Villes visitées :\", cities)\n",
    "\n",
    "# TODO Create a set to get unique cities\n",
    "uniques_cities = set(cities)\n",
    "\n",
    "# Print the number of unique cities\n",
    "print(\"Nombre de villes différentes visitées :\", len(uniques_cities))\n"
   ]
  },
  {
   "cell_type": "markdown",
   "id": "11c13169",
   "metadata": {},
   "source": [
    "### 7 - Trier les voyages par nombre de photos  \n",
    "\n",
    "**TODO**\n",
    "- Afficher les voyages du plus photographié au moins photographié. Utiliser la fonction [sorted](https://docs.python.org/3/library/functions.html#sorted) en allant lire la documentation de fonction."
   ]
  },
  {
   "cell_type": "code",
   "execution_count": 71,
   "id": "ac2706fa",
   "metadata": {},
   "outputs": [
    {
     "name": "stdout",
     "output_type": "stream",
     "text": [
      "Villes de la plus photographiée à la moins photographiée : \n",
      "Nantes 220 photos\n",
      "Montpellier 150 photos\n",
      "Bordeaux 120 photos\n"
     ]
    }
   ],
   "source": [
    "# TODO Print trips from the most photographed to the least photographed\n",
    "sorted_trip = sorted(trip_list, key=lambda trip: trip['photos_taken'], reverse=True)\n",
    "\n",
    "print(\"Villes de la plus photographiée à la moins photographiée : \")\n",
    "\n",
    "for trip in sorted_trip:\n",
    "    print(trip['city'], trip['photos_taken'],\"photos\")\n"
   ]
  }
 ],
 "metadata": {
  "kernelspec": {
   "display_name": ".venv",
   "language": "python",
   "name": "python3"
  },
  "language_info": {
   "codemirror_mode": {
    "name": "ipython",
    "version": 3
   },
   "file_extension": ".py",
   "mimetype": "text/x-python",
   "name": "python",
   "nbconvert_exporter": "python",
   "pygments_lexer": "ipython3",
   "version": "3.12.3"
  }
 },
 "nbformat": 4,
 "nbformat_minor": 5
}
